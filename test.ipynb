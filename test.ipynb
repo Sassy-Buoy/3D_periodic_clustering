{
 "cells": [
  {
   "cell_type": "markdown",
   "metadata": {},
   "source": [
    "# Vanilla model\n"
   ]
  },
  {
   "cell_type": "code",
   "execution_count": null,
   "metadata": {},
   "outputs": [
    {
     "data": {
      "application/vnd.plotly.v1+json": {
       "config": {
        "plotlyServerURL": "https://plot.ly"
       },
       "data": [
        {
         "mode": "lines",
         "name": "train_loss_0",
         "type": "scatter",
         "visible": "legendonly",
         "x": {
          "bdata": "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",
          "dtype": "i2"
         },
         "y": {
          "bdata": "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",
          "dtype": "f8"
         }
        },
        {
         "mode": "lines",
         "name": "val_loss_0",
         "type": "scatter",
         "x": {
          "bdata": "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",
          "dtype": "i2"
         },
         "y": {
          "bdata": "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",
          "dtype": "f8"
         }
        }
       ],
       "layout": {
        "template": {
         "data": {
          "bar": [
           {
            "error_x": {
             "color": "#2a3f5f"
            },
            "error_y": {
             "color": "#2a3f5f"
            },
            "marker": {
             "line": {
              "color": "#E5ECF6",
              "width": 0.5
             },
             "pattern": {
              "fillmode": "overlay",
              "size": 10,
              "solidity": 0.2
             }
            },
            "type": "bar"
           }
          ],
          "barpolar": [
           {
            "marker": {
             "line": {
              "color": "#E5ECF6",
              "width": 0.5
             },
             "pattern": {
              "fillmode": "overlay",
              "size": 10,
              "solidity": 0.2
             }
            },
            "type": "barpolar"
           }
          ],
          "carpet": [
           {
            "aaxis": {
             "endlinecolor": "#2a3f5f",
             "gridcolor": "white",
             "linecolor": "white",
             "minorgridcolor": "white",
             "startlinecolor": "#2a3f5f"
            },
            "baxis": {
             "endlinecolor": "#2a3f5f",
             "gridcolor": "white",
             "linecolor": "white",
             "minorgridcolor": "white",
             "startlinecolor": "#2a3f5f"
            },
            "type": "carpet"
           }
          ],
          "choropleth": [
           {
            "colorbar": {
             "outlinewidth": 0,
             "ticks": ""
            },
            "type": "choropleth"
           }
          ],
          "contour": [
           {
            "colorbar": {
             "outlinewidth": 0,
             "ticks": ""
            },
            "colorscale": [
             [
              0,
              "#0d0887"
             ],
             [
              0.1111111111111111,
              "#46039f"
             ],
             [
              0.2222222222222222,
              "#7201a8"
             ],
             [
              0.3333333333333333,
              "#9c179e"
             ],
             [
              0.4444444444444444,
              "#bd3786"
             ],
             [
              0.5555555555555556,
              "#d8576b"
             ],
             [
              0.6666666666666666,
              "#ed7953"
             ],
             [
              0.7777777777777778,
              "#fb9f3a"
             ],
             [
              0.8888888888888888,
              "#fdca26"
             ],
             [
              1,
              "#f0f921"
             ]
            ],
            "type": "contour"
           }
          ],
          "contourcarpet": [
           {
            "colorbar": {
             "outlinewidth": 0,
             "ticks": ""
            },
            "type": "contourcarpet"
           }
          ],
          "heatmap": [
           {
            "colorbar": {
             "outlinewidth": 0,
             "ticks": ""
            },
            "colorscale": [
             [
              0,
              "#0d0887"
             ],
             [
              0.1111111111111111,
              "#46039f"
             ],
             [
              0.2222222222222222,
              "#7201a8"
             ],
             [
              0.3333333333333333,
              "#9c179e"
             ],
             [
              0.4444444444444444,
              "#bd3786"
             ],
             [
              0.5555555555555556,
              "#d8576b"
             ],
             [
              0.6666666666666666,
              "#ed7953"
             ],
             [
              0.7777777777777778,
              "#fb9f3a"
             ],
             [
              0.8888888888888888,
              "#fdca26"
             ],
             [
              1,
              "#f0f921"
             ]
            ],
            "type": "heatmap"
           }
          ],
          "histogram": [
           {
            "marker": {
             "pattern": {
              "fillmode": "overlay",
              "size": 10,
              "solidity": 0.2
             }
            },
            "type": "histogram"
           }
          ],
          "histogram2d": [
           {
            "colorbar": {
             "outlinewidth": 0,
             "ticks": ""
            },
            "colorscale": [
             [
              0,
              "#0d0887"
             ],
             [
              0.1111111111111111,
              "#46039f"
             ],
             [
              0.2222222222222222,
              "#7201a8"
             ],
             [
              0.3333333333333333,
              "#9c179e"
             ],
             [
              0.4444444444444444,
              "#bd3786"
             ],
             [
              0.5555555555555556,
              "#d8576b"
             ],
             [
              0.6666666666666666,
              "#ed7953"
             ],
             [
              0.7777777777777778,
              "#fb9f3a"
             ],
             [
              0.8888888888888888,
              "#fdca26"
             ],
             [
              1,
              "#f0f921"
             ]
            ],
            "type": "histogram2d"
           }
          ],
          "histogram2dcontour": [
           {
            "colorbar": {
             "outlinewidth": 0,
             "ticks": ""
            },
            "colorscale": [
             [
              0,
              "#0d0887"
             ],
             [
              0.1111111111111111,
              "#46039f"
             ],
             [
              0.2222222222222222,
              "#7201a8"
             ],
             [
              0.3333333333333333,
              "#9c179e"
             ],
             [
              0.4444444444444444,
              "#bd3786"
             ],
             [
              0.5555555555555556,
              "#d8576b"
             ],
             [
              0.6666666666666666,
              "#ed7953"
             ],
             [
              0.7777777777777778,
              "#fb9f3a"
             ],
             [
              0.8888888888888888,
              "#fdca26"
             ],
             [
              1,
              "#f0f921"
             ]
            ],
            "type": "histogram2dcontour"
           }
          ],
          "mesh3d": [
           {
            "colorbar": {
             "outlinewidth": 0,
             "ticks": ""
            },
            "type": "mesh3d"
           }
          ],
          "parcoords": [
           {
            "line": {
             "colorbar": {
              "outlinewidth": 0,
              "ticks": ""
             }
            },
            "type": "parcoords"
           }
          ],
          "pie": [
           {
            "automargin": true,
            "type": "pie"
           }
          ],
          "scatter": [
           {
            "fillpattern": {
             "fillmode": "overlay",
             "size": 10,
             "solidity": 0.2
            },
            "type": "scatter"
           }
          ],
          "scatter3d": [
           {
            "line": {
             "colorbar": {
              "outlinewidth": 0,
              "ticks": ""
             }
            },
            "marker": {
             "colorbar": {
              "outlinewidth": 0,
              "ticks": ""
             }
            },
            "type": "scatter3d"
           }
          ],
          "scattercarpet": [
           {
            "marker": {
             "colorbar": {
              "outlinewidth": 0,
              "ticks": ""
             }
            },
            "type": "scattercarpet"
           }
          ],
          "scattergeo": [
           {
            "marker": {
             "colorbar": {
              "outlinewidth": 0,
              "ticks": ""
             }
            },
            "type": "scattergeo"
           }
          ],
          "scattergl": [
           {
            "marker": {
             "colorbar": {
              "outlinewidth": 0,
              "ticks": ""
             }
            },
            "type": "scattergl"
           }
          ],
          "scattermap": [
           {
            "marker": {
             "colorbar": {
              "outlinewidth": 0,
              "ticks": ""
             }
            },
            "type": "scattermap"
           }
          ],
          "scattermapbox": [
           {
            "marker": {
             "colorbar": {
              "outlinewidth": 0,
              "ticks": ""
             }
            },
            "type": "scattermapbox"
           }
          ],
          "scatterpolar": [
           {
            "marker": {
             "colorbar": {
              "outlinewidth": 0,
              "ticks": ""
             }
            },
            "type": "scatterpolar"
           }
          ],
          "scatterpolargl": [
           {
            "marker": {
             "colorbar": {
              "outlinewidth": 0,
              "ticks": ""
             }
            },
            "type": "scatterpolargl"
           }
          ],
          "scatterternary": [
           {
            "marker": {
             "colorbar": {
              "outlinewidth": 0,
              "ticks": ""
             }
            },
            "type": "scatterternary"
           }
          ],
          "surface": [
           {
            "colorbar": {
             "outlinewidth": 0,
             "ticks": ""
            },
            "colorscale": [
             [
              0,
              "#0d0887"
             ],
             [
              0.1111111111111111,
              "#46039f"
             ],
             [
              0.2222222222222222,
              "#7201a8"
             ],
             [
              0.3333333333333333,
              "#9c179e"
             ],
             [
              0.4444444444444444,
              "#bd3786"
             ],
             [
              0.5555555555555556,
              "#d8576b"
             ],
             [
              0.6666666666666666,
              "#ed7953"
             ],
             [
              0.7777777777777778,
              "#fb9f3a"
             ],
             [
              0.8888888888888888,
              "#fdca26"
             ],
             [
              1,
              "#f0f921"
             ]
            ],
            "type": "surface"
           }
          ],
          "table": [
           {
            "cells": {
             "fill": {
              "color": "#EBF0F8"
             },
             "line": {
              "color": "white"
             }
            },
            "header": {
             "fill": {
              "color": "#C8D4E3"
             },
             "line": {
              "color": "white"
             }
            },
            "type": "table"
           }
          ]
         },
         "layout": {
          "annotationdefaults": {
           "arrowcolor": "#2a3f5f",
           "arrowhead": 0,
           "arrowwidth": 1
          },
          "autotypenumbers": "strict",
          "coloraxis": {
           "colorbar": {
            "outlinewidth": 0,
            "ticks": ""
           }
          },
          "colorscale": {
           "diverging": [
            [
             0,
             "#8e0152"
            ],
            [
             0.1,
             "#c51b7d"
            ],
            [
             0.2,
             "#de77ae"
            ],
            [
             0.3,
             "#f1b6da"
            ],
            [
             0.4,
             "#fde0ef"
            ],
            [
             0.5,
             "#f7f7f7"
            ],
            [
             0.6,
             "#e6f5d0"
            ],
            [
             0.7,
             "#b8e186"
            ],
            [
             0.8,
             "#7fbc41"
            ],
            [
             0.9,
             "#4d9221"
            ],
            [
             1,
             "#276419"
            ]
           ],
           "sequential": [
            [
             0,
             "#0d0887"
            ],
            [
             0.1111111111111111,
             "#46039f"
            ],
            [
             0.2222222222222222,
             "#7201a8"
            ],
            [
             0.3333333333333333,
             "#9c179e"
            ],
            [
             0.4444444444444444,
             "#bd3786"
            ],
            [
             0.5555555555555556,
             "#d8576b"
            ],
            [
             0.6666666666666666,
             "#ed7953"
            ],
            [
             0.7777777777777778,
             "#fb9f3a"
            ],
            [
             0.8888888888888888,
             "#fdca26"
            ],
            [
             1,
             "#f0f921"
            ]
           ],
           "sequentialminus": [
            [
             0,
             "#0d0887"
            ],
            [
             0.1111111111111111,
             "#46039f"
            ],
            [
             0.2222222222222222,
             "#7201a8"
            ],
            [
             0.3333333333333333,
             "#9c179e"
            ],
            [
             0.4444444444444444,
             "#bd3786"
            ],
            [
             0.5555555555555556,
             "#d8576b"
            ],
            [
             0.6666666666666666,
             "#ed7953"
            ],
            [
             0.7777777777777778,
             "#fb9f3a"
            ],
            [
             0.8888888888888888,
             "#fdca26"
            ],
            [
             1,
             "#f0f921"
            ]
           ]
          },
          "colorway": [
           "#636efa",
           "#EF553B",
           "#00cc96",
           "#ab63fa",
           "#FFA15A",
           "#19d3f3",
           "#FF6692",
           "#B6E880",
           "#FF97FF",
           "#FECB52"
          ],
          "font": {
           "color": "#2a3f5f"
          },
          "geo": {
           "bgcolor": "white",
           "lakecolor": "white",
           "landcolor": "#E5ECF6",
           "showlakes": true,
           "showland": true,
           "subunitcolor": "white"
          },
          "hoverlabel": {
           "align": "left"
          },
          "hovermode": "closest",
          "mapbox": {
           "style": "light"
          },
          "paper_bgcolor": "white",
          "plot_bgcolor": "#E5ECF6",
          "polar": {
           "angularaxis": {
            "gridcolor": "white",
            "linecolor": "white",
            "ticks": ""
           },
           "bgcolor": "#E5ECF6",
           "radialaxis": {
            "gridcolor": "white",
            "linecolor": "white",
            "ticks": ""
           }
          },
          "scene": {
           "xaxis": {
            "backgroundcolor": "#E5ECF6",
            "gridcolor": "white",
            "gridwidth": 2,
            "linecolor": "white",
            "showbackground": true,
            "ticks": "",
            "zerolinecolor": "white"
           },
           "yaxis": {
            "backgroundcolor": "#E5ECF6",
            "gridcolor": "white",
            "gridwidth": 2,
            "linecolor": "white",
            "showbackground": true,
            "ticks": "",
            "zerolinecolor": "white"
           },
           "zaxis": {
            "backgroundcolor": "#E5ECF6",
            "gridcolor": "white",
            "gridwidth": 2,
            "linecolor": "white",
            "showbackground": true,
            "ticks": "",
            "zerolinecolor": "white"
           }
          },
          "shapedefaults": {
           "line": {
            "color": "#2a3f5f"
           }
          },
          "ternary": {
           "aaxis": {
            "gridcolor": "white",
            "linecolor": "white",
            "ticks": ""
           },
           "baxis": {
            "gridcolor": "white",
            "linecolor": "white",
            "ticks": ""
           },
           "bgcolor": "#E5ECF6",
           "caxis": {
            "gridcolor": "white",
            "linecolor": "white",
            "ticks": ""
           }
          },
          "title": {
           "x": 0.05
          },
          "xaxis": {
           "automargin": true,
           "gridcolor": "white",
           "linecolor": "white",
           "ticks": "",
           "title": {
            "standoff": 15
           },
           "zerolinecolor": "white",
           "zerolinewidth": 2
          },
          "yaxis": {
           "automargin": true,
           "gridcolor": "white",
           "linecolor": "white",
           "ticks": "",
           "title": {
            "standoff": 15
           },
           "zerolinecolor": "white",
           "zerolinewidth": 2
          }
         }
        },
        "title": {
         "text": "Training and Validation Loss"
        },
        "updatemenus": [
         {
          "buttons": [
           {
            "args": [
             {
              "visible": [
               true,
               true
              ]
             }
            ],
            "label": "All",
            "method": "update"
           },
           {
            "args": [
             {
              "visible": [
               false,
               false
              ]
             }
            ],
            "label": "None",
            "method": "update"
           }
          ],
          "direction": "down",
          "showactive": true
         }
        ],
        "xaxis": {
         "title": {
          "text": "Epoch"
         }
        },
        "yaxis": {
         "title": {
          "text": "Loss"
         }
        }
       }
      }
     },
     "metadata": {},
     "output_type": "display_data"
    }
   ],
   "source": [
    "from plot import training_log\n",
    "\n",
    "training_log(version=[8])"
   ]
  },
  {
   "cell_type": "code",
   "execution_count": 2,
   "metadata": {},
   "outputs": [
    {
     "data": {
      "text/html": [
       "<script type=\"esms-options\">{\"shimMode\": true}</script><style>*[data-root-id],\n",
       "*[data-root-id] > * {\n",
       "  box-sizing: border-box;\n",
       "  font-family: var(--jp-ui-font-family);\n",
       "  font-size: var(--jp-ui-font-size1);\n",
       "  color: var(--vscode-editor-foreground, var(--jp-ui-font-color1));\n",
       "}\n",
       "\n",
       "/* Override VSCode background color */\n",
       ".cell-output-ipywidget-background:has(\n",
       "  > .cell-output-ipywidget-background > .lm-Widget > *[data-root-id]\n",
       "),\n",
       ".cell-output-ipywidget-background:has(> .lm-Widget > *[data-root-id]) {\n",
       "  background-color: transparent !important;\n",
       "}\n",
       "</style>"
      ]
     },
     "metadata": {},
     "output_type": "display_data"
    },
    {
     "data": {
      "application/javascript": "(function(root) {\n  function now() {\n    return new Date();\n  }\n\n  const force = true;\n  const py_version = '3.7.3'.replace('rc', '-rc.').replace('.dev', '-dev.');\n  const reloading = false;\n  const Bokeh = root.Bokeh;\n\n  // Set a timeout for this load but only if we are not already initializing\n  if (typeof (root._bokeh_timeout) === \"undefined\" || (force || !root._bokeh_is_initializing)) {\n    root._bokeh_timeout = Date.now() + 5000;\n    root._bokeh_failed_load = false;\n  }\n\n  function run_callbacks() {\n    try {\n      root._bokeh_onload_callbacks.forEach(function(callback) {\n        if (callback != null)\n          callback();\n      });\n    } finally {\n      delete root._bokeh_onload_callbacks;\n    }\n    console.debug(\"Bokeh: all callbacks have finished\");\n  }\n\n  function load_libs(css_urls, js_urls, js_modules, js_exports, callback) {\n    if (css_urls == null) css_urls = [];\n    if (js_urls == null) js_urls = [];\n    if (js_modules == null) js_modules = [];\n    if (js_exports == null) js_exports = {};\n\n    root._bokeh_onload_callbacks.push(callback);\n\n    if (root._bokeh_is_loading > 0) {\n      // Don't load bokeh if it is still initializing\n      console.debug(\"Bokeh: BokehJS is being loaded, scheduling callback at\", now());\n      return null;\n    } else if (js_urls.length === 0 && js_modules.length === 0 && Object.keys(js_exports).length === 0) {\n      // There is nothing to load\n      run_callbacks();\n      return null;\n    }\n\n    function on_load() {\n      root._bokeh_is_loading--;\n      if (root._bokeh_is_loading === 0) {\n        console.debug(\"Bokeh: all BokehJS libraries/stylesheets loaded\");\n        run_callbacks()\n      }\n    }\n    window._bokeh_on_load = on_load\n\n    function on_error(e) {\n      const src_el = e.srcElement\n      console.error(\"failed to load \" + (src_el.href || src_el.src));\n    }\n\n    const skip = [];\n    if (window.requirejs) {\n      window.requirejs.config({'packages': {}, 'paths': {}, 'shim': {}});\n      root._bokeh_is_loading = css_urls.length + 0;\n    } else {\n      root._bokeh_is_loading = css_urls.length + js_urls.length + js_modules.length + Object.keys(js_exports).length;\n    }\n\n    const existing_stylesheets = []\n    const links = document.getElementsByTagName('link')\n    for (let i = 0; i < links.length; i++) {\n      const link = links[i]\n      if (link.href != null) {\n        existing_stylesheets.push(link.href)\n      }\n    }\n    for (let i = 0; i < css_urls.length; i++) {\n      const url = css_urls[i];\n      const escaped = encodeURI(url)\n      if (existing_stylesheets.indexOf(escaped) !== -1) {\n        on_load()\n        continue;\n      }\n      const element = document.createElement(\"link\");\n      element.onload = on_load;\n      element.onerror = on_error;\n      element.rel = \"stylesheet\";\n      element.type = \"text/css\";\n      element.href = url;\n      console.debug(\"Bokeh: injecting link tag for BokehJS stylesheet: \", url);\n      document.body.appendChild(element);\n    }    var existing_scripts = []\n    const scripts = document.getElementsByTagName('script')\n    for (let i = 0; i < scripts.length; i++) {\n      var script = scripts[i]\n      if (script.src != null) {\n        existing_scripts.push(script.src)\n      }\n    }\n    for (let i = 0; i < js_urls.length; i++) {\n      const url = js_urls[i];\n      const escaped = encodeURI(url)\n      if (skip.indexOf(escaped) !== -1 || existing_scripts.indexOf(escaped) !== -1) {\n        if (!window.requirejs) {\n          on_load();\n        }\n        continue;\n      }\n      const element = document.createElement('script');\n      element.onload = on_load;\n      element.onerror = on_error;\n      element.async = false;\n      element.src = url;\n      console.debug(\"Bokeh: injecting script tag for BokehJS library: \", url);\n      document.head.appendChild(element);\n    }\n    for (let i = 0; i < js_modules.length; i++) {\n      const url = js_modules[i];\n      const escaped = encodeURI(url)\n      if (skip.indexOf(escaped) !== -1 || existing_scripts.indexOf(escaped) !== -1) {\n        if (!window.requirejs) {\n          on_load();\n        }\n        continue;\n      }\n      var element = document.createElement('script');\n      element.onload = on_load;\n      element.onerror = on_error;\n      element.async = false;\n      element.src = url;\n      element.type = \"module\";\n      console.debug(\"Bokeh: injecting script tag for BokehJS library: \", url);\n      document.head.appendChild(element);\n    }\n    for (const name in js_exports) {\n      const url = js_exports[name];\n      const escaped = encodeURI(url)\n      if (skip.indexOf(escaped) >= 0 || root[name] != null) {\n        if (!window.requirejs) {\n          on_load();\n        }\n        continue;\n      }\n      var element = document.createElement('script');\n      element.onerror = on_error;\n      element.async = false;\n      element.type = \"module\";\n      console.debug(\"Bokeh: injecting script tag for BokehJS library: \", url);\n      element.textContent = `\n      import ${name} from \"${url}\"\n      window.${name} = ${name}\n      window._bokeh_on_load()\n      `\n      document.head.appendChild(element);\n    }\n    if (!js_urls.length && !js_modules.length) {\n      on_load()\n    }\n  };\n\n  function inject_raw_css(css) {\n    const element = document.createElement(\"style\");\n    element.appendChild(document.createTextNode(css));\n    document.body.appendChild(element);\n  }\n\n  const js_urls = [\"https://cdn.holoviz.org/panel/1.7.5/dist/bundled/reactiveesm/es-module-shims@^1.10.0/dist/es-module-shims.min.js\", \"https://cdn.bokeh.org/bokeh/release/bokeh-3.7.3.min.js\", \"https://cdn.bokeh.org/bokeh/release/bokeh-gl-3.7.3.min.js\", \"https://cdn.bokeh.org/bokeh/release/bokeh-widgets-3.7.3.min.js\", \"https://cdn.bokeh.org/bokeh/release/bokeh-tables-3.7.3.min.js\", \"https://cdn.holoviz.org/panel/1.7.5/dist/panel.min.js\"];\n  const js_modules = [];\n  const js_exports = {};\n  const css_urls = [];\n  const inline_js = [    function(Bokeh) {\n      Bokeh.set_log_level(\"info\");\n    },\nfunction(Bokeh) {} // ensure no trailing comma for IE\n  ];\n\n  function run_inline_js() {\n    if ((root.Bokeh !== undefined) || (force === true)) {\n      for (let i = 0; i < inline_js.length; i++) {\n        try {\n          inline_js[i].call(root, root.Bokeh);\n        } catch(e) {\n          if (!reloading) {\n            throw e;\n          }\n        }\n      }\n      // Cache old bokeh versions\n      if (Bokeh != undefined && !reloading) {\n        var NewBokeh = root.Bokeh;\n        if (Bokeh.versions === undefined) {\n          Bokeh.versions = new Map();\n        }\n        if (NewBokeh.version !== Bokeh.version) {\n          Bokeh.versions.set(NewBokeh.version, NewBokeh)\n        }\n        root.Bokeh = Bokeh;\n      }\n    } else if (Date.now() < root._bokeh_timeout) {\n      setTimeout(run_inline_js, 100);\n    } else if (!root._bokeh_failed_load) {\n      console.log(\"Bokeh: BokehJS failed to load within specified timeout.\");\n      root._bokeh_failed_load = true;\n    }\n    root._bokeh_is_initializing = false\n  }\n\n  function load_or_wait() {\n    // Implement a backoff loop that tries to ensure we do not load multiple\n    // versions of Bokeh and its dependencies at the same time.\n    // In recent versions we use the root._bokeh_is_initializing flag\n    // to determine whether there is an ongoing attempt to initialize\n    // bokeh, however for backward compatibility we also try to ensure\n    // that we do not start loading a newer (Panel>=1.0 and Bokeh>3) version\n    // before older versions are fully initialized.\n    if (root._bokeh_is_initializing && Date.now() > root._bokeh_timeout) {\n      // If the timeout and bokeh was not successfully loaded we reset\n      // everything and try loading again\n      root._bokeh_timeout = Date.now() + 5000;\n      root._bokeh_is_initializing = false;\n      root._bokeh_onload_callbacks = undefined;\n      root._bokeh_is_loading = 0\n      console.log(\"Bokeh: BokehJS was loaded multiple times but one version failed to initialize.\");\n      load_or_wait();\n    } else if (root._bokeh_is_initializing || (typeof root._bokeh_is_initializing === \"undefined\" && root._bokeh_onload_callbacks !== undefined)) {\n      setTimeout(load_or_wait, 100);\n    } else {\n      root._bokeh_is_initializing = true\n      root._bokeh_onload_callbacks = []\n      const bokeh_loaded = root.Bokeh != null && (root.Bokeh.version === py_version || (root.Bokeh.versions !== undefined && root.Bokeh.versions.has(py_version)));\n      if (!reloading && !bokeh_loaded) {\n        if (root.Bokeh) {\n          root.Bokeh = undefined;\n        }\n        console.debug(\"Bokeh: BokehJS not loaded, scheduling load and callback at\", now());\n      }\n      load_libs(css_urls, js_urls, js_modules, js_exports, function() {\n        console.debug(\"Bokeh: BokehJS plotting callback run at\", now());\n        run_inline_js();\n      });\n    }\n  }\n  // Give older versions of the autoload script a head-start to ensure\n  // they initialize before we start loading newer version.\n  setTimeout(load_or_wait, 100)\n}(window));",
      "application/vnd.holoviews_load.v0+json": ""
     },
     "metadata": {},
     "output_type": "display_data"
    },
    {
     "data": {
      "application/javascript": "\nif ((window.PyViz === undefined) || (window.PyViz instanceof HTMLElement)) {\n  window.PyViz = {comms: {}, comm_status:{}, kernels:{}, receivers: {}, plot_index: []}\n}\n\n\n    function JupyterCommManager() {\n    }\n\n    JupyterCommManager.prototype.register_target = function(plot_id, comm_id, msg_handler) {\n      if (window.comm_manager || ((window.Jupyter !== undefined) && (Jupyter.notebook.kernel != null))) {\n        var comm_manager = window.comm_manager || Jupyter.notebook.kernel.comm_manager;\n        comm_manager.register_target(comm_id, function(comm) {\n          comm.on_msg(msg_handler);\n        });\n      } else if ((plot_id in window.PyViz.kernels) && (window.PyViz.kernels[plot_id])) {\n        window.PyViz.kernels[plot_id].registerCommTarget(comm_id, function(comm) {\n          comm.onMsg = msg_handler;\n        });\n      } else if (typeof google != 'undefined' && google.colab.kernel != null) {\n        google.colab.kernel.comms.registerTarget(comm_id, (comm) => {\n          var messages = comm.messages[Symbol.asyncIterator]();\n          function processIteratorResult(result) {\n            var message = result.value;\n            var content = {data: message.data, comm_id};\n            var buffers = []\n            for (var buffer of message.buffers || []) {\n              buffers.push(new DataView(buffer))\n            }\n            var metadata = message.metadata || {};\n            var msg = {content, buffers, metadata}\n            msg_handler(msg);\n            return messages.next().then(processIteratorResult);\n          }\n          return messages.next().then(processIteratorResult);\n        })\n      }\n    }\n\n    JupyterCommManager.prototype.get_client_comm = function(plot_id, comm_id, msg_handler) {\n      if (comm_id in window.PyViz.comms) {\n        return window.PyViz.comms[comm_id];\n      } else if (window.comm_manager || ((window.Jupyter !== undefined) && (Jupyter.notebook.kernel != null))) {\n        var comm_manager = window.comm_manager || Jupyter.notebook.kernel.comm_manager;\n        var comm = comm_manager.new_comm(comm_id, {}, {}, {}, comm_id);\n        if (msg_handler) {\n          comm.on_msg(msg_handler);\n        }\n      } else if ((plot_id in window.PyViz.kernels) && (window.PyViz.kernels[plot_id])) {\n        var comm = window.PyViz.kernels[plot_id].connectToComm(comm_id);\n        let retries = 0;\n        const open = () => {\n          if (comm.active) {\n            comm.open();\n          } else if (retries > 3) {\n            console.warn('Comm target never activated')\n          } else {\n            retries += 1\n            setTimeout(open, 500)\n          }\n        }\n        if (comm.active) {\n          comm.open();\n        } else {\n          setTimeout(open, 500)\n        }\n        if (msg_handler) {\n          comm.onMsg = msg_handler;\n        }\n      } else if (typeof google != 'undefined' && google.colab.kernel != null) {\n        var comm_promise = google.colab.kernel.comms.open(comm_id)\n        comm_promise.then((comm) => {\n          window.PyViz.comms[comm_id] = comm;\n          if (msg_handler) {\n            var messages = comm.messages[Symbol.asyncIterator]();\n            function processIteratorResult(result) {\n              var message = result.value;\n              var content = {data: message.data};\n              var metadata = message.metadata || {comm_id};\n              var msg = {content, metadata}\n              msg_handler(msg);\n              return messages.next().then(processIteratorResult);\n            }\n            return messages.next().then(processIteratorResult);\n          }\n        })\n        var sendClosure = (data, metadata, buffers, disposeOnDone) => {\n          return comm_promise.then((comm) => {\n            comm.send(data, metadata, buffers, disposeOnDone);\n          });\n        };\n        var comm = {\n          send: sendClosure\n        };\n      }\n      window.PyViz.comms[comm_id] = comm;\n      return comm;\n    }\n    window.PyViz.comm_manager = new JupyterCommManager();\n    \n\n\nvar JS_MIME_TYPE = 'application/javascript';\nvar HTML_MIME_TYPE = 'text/html';\nvar EXEC_MIME_TYPE = 'application/vnd.holoviews_exec.v0+json';\nvar CLASS_NAME = 'output';\n\n/**\n * Render data to the DOM node\n */\nfunction render(props, node) {\n  var div = document.createElement(\"div\");\n  var script = document.createElement(\"script\");\n  node.appendChild(div);\n  node.appendChild(script);\n}\n\n/**\n * Handle when a new output is added\n */\nfunction handle_add_output(event, handle) {\n  var output_area = handle.output_area;\n  var output = handle.output;\n  if ((output.data == undefined) || (!output.data.hasOwnProperty(EXEC_MIME_TYPE))) {\n    return\n  }\n  var id = output.metadata[EXEC_MIME_TYPE][\"id\"];\n  var toinsert = output_area.element.find(\".\" + CLASS_NAME.split(' ')[0]);\n  if (id !== undefined) {\n    var nchildren = toinsert.length;\n    var html_node = toinsert[nchildren-1].children[0];\n    html_node.innerHTML = output.data[HTML_MIME_TYPE];\n    var scripts = [];\n    var nodelist = html_node.querySelectorAll(\"script\");\n    for (var i in nodelist) {\n      if (nodelist.hasOwnProperty(i)) {\n        scripts.push(nodelist[i])\n      }\n    }\n\n    scripts.forEach( function (oldScript) {\n      var newScript = document.createElement(\"script\");\n      var attrs = [];\n      var nodemap = oldScript.attributes;\n      for (var j in nodemap) {\n        if (nodemap.hasOwnProperty(j)) {\n          attrs.push(nodemap[j])\n        }\n      }\n      attrs.forEach(function(attr) { newScript.setAttribute(attr.name, attr.value) });\n      newScript.appendChild(document.createTextNode(oldScript.innerHTML));\n      oldScript.parentNode.replaceChild(newScript, oldScript);\n    });\n    if (JS_MIME_TYPE in output.data) {\n      toinsert[nchildren-1].children[1].textContent = output.data[JS_MIME_TYPE];\n    }\n    output_area._hv_plot_id = id;\n    if ((window.Bokeh !== undefined) && (id in Bokeh.index)) {\n      window.PyViz.plot_index[id] = Bokeh.index[id];\n    } else {\n      window.PyViz.plot_index[id] = null;\n    }\n  } else if (output.metadata[EXEC_MIME_TYPE][\"server_id\"] !== undefined) {\n    var bk_div = document.createElement(\"div\");\n    bk_div.innerHTML = output.data[HTML_MIME_TYPE];\n    var script_attrs = bk_div.children[0].attributes;\n    for (var i = 0; i < script_attrs.length; i++) {\n      toinsert[toinsert.length - 1].childNodes[1].setAttribute(script_attrs[i].name, script_attrs[i].value);\n    }\n    // store reference to server id on output_area\n    output_area._bokeh_server_id = output.metadata[EXEC_MIME_TYPE][\"server_id\"];\n  }\n}\n\n/**\n * Handle when an output is cleared or removed\n */\nfunction handle_clear_output(event, handle) {\n  var id = handle.cell.output_area._hv_plot_id;\n  var server_id = handle.cell.output_area._bokeh_server_id;\n  if (((id === undefined) || !(id in PyViz.plot_index)) && (server_id !== undefined)) { return; }\n  var comm = window.PyViz.comm_manager.get_client_comm(\"hv-extension-comm\", \"hv-extension-comm\", function () {});\n  if (server_id !== null) {\n    comm.send({event_type: 'server_delete', 'id': server_id});\n    return;\n  } else if (comm !== null) {\n    comm.send({event_type: 'delete', 'id': id});\n  }\n  delete PyViz.plot_index[id];\n  if ((window.Bokeh !== undefined) & (id in window.Bokeh.index)) {\n    var doc = window.Bokeh.index[id].model.document\n    doc.clear();\n    const i = window.Bokeh.documents.indexOf(doc);\n    if (i > -1) {\n      window.Bokeh.documents.splice(i, 1);\n    }\n  }\n}\n\n/**\n * Handle kernel restart event\n */\nfunction handle_kernel_cleanup(event, handle) {\n  delete PyViz.comms[\"hv-extension-comm\"];\n  window.PyViz.plot_index = {}\n}\n\n/**\n * Handle update_display_data messages\n */\nfunction handle_update_output(event, handle) {\n  handle_clear_output(event, {cell: {output_area: handle.output_area}})\n  handle_add_output(event, handle)\n}\n\nfunction register_renderer(events, OutputArea) {\n  function append_mime(data, metadata, element) {\n    // create a DOM node to render to\n    var toinsert = this.create_output_subarea(\n    metadata,\n    CLASS_NAME,\n    EXEC_MIME_TYPE\n    );\n    this.keyboard_manager.register_events(toinsert);\n    // Render to node\n    var props = {data: data, metadata: metadata[EXEC_MIME_TYPE]};\n    render(props, toinsert[0]);\n    element.append(toinsert);\n    return toinsert\n  }\n\n  events.on('output_added.OutputArea', handle_add_output);\n  events.on('output_updated.OutputArea', handle_update_output);\n  events.on('clear_output.CodeCell', handle_clear_output);\n  events.on('delete.Cell', handle_clear_output);\n  events.on('kernel_ready.Kernel', handle_kernel_cleanup);\n\n  OutputArea.prototype.register_mime_type(EXEC_MIME_TYPE, append_mime, {\n    safe: true,\n    index: 0\n  });\n}\n\nif (window.Jupyter !== undefined) {\n  try {\n    var events = require('base/js/events');\n    var OutputArea = require('notebook/js/outputarea').OutputArea;\n    if (OutputArea.prototype.mime_types().indexOf(EXEC_MIME_TYPE) == -1) {\n      register_renderer(events, OutputArea);\n    }\n  } catch(err) {\n  }\n}\n",
      "application/vnd.holoviews_load.v0+json": ""
     },
     "metadata": {},
     "output_type": "display_data"
    },
    {
     "data": {
      "application/vnd.holoviews_exec.v0+json": "",
      "text/html": [
       "<div id='d5fa6450-38db-41b3-ac31-9a34ad5fc831'>\n",
       "  <div id=\"c3fd329d-7b9f-4a2e-aa08-cb46dbde3def\" data-root-id=\"d5fa6450-38db-41b3-ac31-9a34ad5fc831\" style=\"display: contents;\"></div>\n",
       "</div>\n",
       "<script type=\"application/javascript\">(function(root) {\n",
       "  var docs_json = {\"3962f73f-d4d2-4334-8281-c2e93c7ebad6\":{\"version\":\"3.7.3\",\"title\":\"Bokeh Application\",\"roots\":[{\"type\":\"object\",\"name\":\"panel.models.browser.BrowserInfo\",\"id\":\"d5fa6450-38db-41b3-ac31-9a34ad5fc831\"},{\"type\":\"object\",\"name\":\"panel.models.comm_manager.CommManager\",\"id\":\"245d8f76-87fd-442b-b2de-ac3ae505ae90\",\"attributes\":{\"plot_id\":\"d5fa6450-38db-41b3-ac31-9a34ad5fc831\",\"comm_id\":\"f7387ec767c64fe4a360189522786074\",\"client_comm_id\":\"8675b1982730474b9dab8da905faa9e9\"}}],\"defs\":[{\"type\":\"model\",\"name\":\"ReactiveHTML1\"},{\"type\":\"model\",\"name\":\"FlexBox1\",\"properties\":[{\"name\":\"align_content\",\"kind\":\"Any\",\"default\":\"flex-start\"},{\"name\":\"align_items\",\"kind\":\"Any\",\"default\":\"flex-start\"},{\"name\":\"flex_direction\",\"kind\":\"Any\",\"default\":\"row\"},{\"name\":\"flex_wrap\",\"kind\":\"Any\",\"default\":\"wrap\"},{\"name\":\"gap\",\"kind\":\"Any\",\"default\":\"\"},{\"name\":\"justify_content\",\"kind\":\"Any\",\"default\":\"flex-start\"}]},{\"type\":\"model\",\"name\":\"FloatPanel1\",\"properties\":[{\"name\":\"config\",\"kind\":\"Any\",\"default\":{\"type\":\"map\"}},{\"name\":\"contained\",\"kind\":\"Any\",\"default\":true},{\"name\":\"position\",\"kind\":\"Any\",\"default\":\"right-top\"},{\"name\":\"offsetx\",\"kind\":\"Any\",\"default\":null},{\"name\":\"offsety\",\"kind\":\"Any\",\"default\":null},{\"name\":\"theme\",\"kind\":\"Any\",\"default\":\"primary\"},{\"name\":\"status\",\"kind\":\"Any\",\"default\":\"normalized\"}]},{\"type\":\"model\",\"name\":\"GridStack1\",\"properties\":[{\"name\":\"ncols\",\"kind\":\"Any\",\"default\":null},{\"name\":\"nrows\",\"kind\":\"Any\",\"default\":null},{\"name\":\"allow_resize\",\"kind\":\"Any\",\"default\":true},{\"name\":\"allow_drag\",\"kind\":\"Any\",\"default\":true},{\"name\":\"state\",\"kind\":\"Any\",\"default\":[]}]},{\"type\":\"model\",\"name\":\"drag1\",\"properties\":[{\"name\":\"slider_width\",\"kind\":\"Any\",\"default\":5},{\"name\":\"slider_color\",\"kind\":\"Any\",\"default\":\"black\"},{\"name\":\"value\",\"kind\":\"Any\",\"default\":50}]},{\"type\":\"model\",\"name\":\"click1\",\"properties\":[{\"name\":\"terminal_output\",\"kind\":\"Any\",\"default\":\"\"},{\"name\":\"debug_name\",\"kind\":\"Any\",\"default\":\"\"},{\"name\":\"clears\",\"kind\":\"Any\",\"default\":0}]},{\"type\":\"model\",\"name\":\"ReactiveESM1\",\"properties\":[{\"name\":\"esm_constants\",\"kind\":\"Any\",\"default\":{\"type\":\"map\"}}]},{\"type\":\"model\",\"name\":\"JSComponent1\",\"properties\":[{\"name\":\"esm_constants\",\"kind\":\"Any\",\"default\":{\"type\":\"map\"}}]},{\"type\":\"model\",\"name\":\"ReactComponent1\",\"properties\":[{\"name\":\"use_shadow_dom\",\"kind\":\"Any\",\"default\":true},{\"name\":\"esm_constants\",\"kind\":\"Any\",\"default\":{\"type\":\"map\"}}]},{\"type\":\"model\",\"name\":\"AnyWidgetComponent1\",\"properties\":[{\"name\":\"use_shadow_dom\",\"kind\":\"Any\",\"default\":true},{\"name\":\"esm_constants\",\"kind\":\"Any\",\"default\":{\"type\":\"map\"}}]},{\"type\":\"model\",\"name\":\"FastWrapper1\",\"properties\":[{\"name\":\"object\",\"kind\":\"Any\",\"default\":null},{\"name\":\"style\",\"kind\":\"Any\",\"default\":null}]},{\"type\":\"model\",\"name\":\"NotificationArea1\",\"properties\":[{\"name\":\"js_events\",\"kind\":\"Any\",\"default\":{\"type\":\"map\"}},{\"name\":\"max_notifications\",\"kind\":\"Any\",\"default\":5},{\"name\":\"notifications\",\"kind\":\"Any\",\"default\":[]},{\"name\":\"position\",\"kind\":\"Any\",\"default\":\"bottom-right\"},{\"name\":\"_clear\",\"kind\":\"Any\",\"default\":0},{\"name\":\"types\",\"kind\":\"Any\",\"default\":[{\"type\":\"map\",\"entries\":[[\"type\",\"warning\"],[\"background\",\"#ffc107\"],[\"icon\",{\"type\":\"map\",\"entries\":[[\"className\",\"fas fa-exclamation-triangle\"],[\"tagName\",\"i\"],[\"color\",\"white\"]]}]]},{\"type\":\"map\",\"entries\":[[\"type\",\"info\"],[\"background\",\"#007bff\"],[\"icon\",{\"type\":\"map\",\"entries\":[[\"className\",\"fas fa-info-circle\"],[\"tagName\",\"i\"],[\"color\",\"white\"]]}]]}]}]},{\"type\":\"model\",\"name\":\"Notification\",\"properties\":[{\"name\":\"background\",\"kind\":\"Any\",\"default\":null},{\"name\":\"duration\",\"kind\":\"Any\",\"default\":3000},{\"name\":\"icon\",\"kind\":\"Any\",\"default\":null},{\"name\":\"message\",\"kind\":\"Any\",\"default\":\"\"},{\"name\":\"notification_type\",\"kind\":\"Any\",\"default\":null},{\"name\":\"_rendered\",\"kind\":\"Any\",\"default\":false},{\"name\":\"_destroyed\",\"kind\":\"Any\",\"default\":false}]},{\"type\":\"model\",\"name\":\"TemplateActions1\",\"properties\":[{\"name\":\"open_modal\",\"kind\":\"Any\",\"default\":0},{\"name\":\"close_modal\",\"kind\":\"Any\",\"default\":0}]},{\"type\":\"model\",\"name\":\"BootstrapTemplateActions1\",\"properties\":[{\"name\":\"open_modal\",\"kind\":\"Any\",\"default\":0},{\"name\":\"close_modal\",\"kind\":\"Any\",\"default\":0}]},{\"type\":\"model\",\"name\":\"TemplateEditor1\",\"properties\":[{\"name\":\"layout\",\"kind\":\"Any\",\"default\":[]}]},{\"type\":\"model\",\"name\":\"MaterialTemplateActions1\",\"properties\":[{\"name\":\"open_modal\",\"kind\":\"Any\",\"default\":0},{\"name\":\"close_modal\",\"kind\":\"Any\",\"default\":0}]},{\"type\":\"model\",\"name\":\"request_value1\",\"properties\":[{\"name\":\"fill\",\"kind\":\"Any\",\"default\":\"none\"},{\"name\":\"_synced\",\"kind\":\"Any\",\"default\":null},{\"name\":\"_request_sync\",\"kind\":\"Any\",\"default\":0}]},{\"type\":\"model\",\"name\":\"holoviews.plotting.bokeh.raster.HoverModel\",\"properties\":[{\"name\":\"xy\",\"kind\":\"Any\",\"default\":null},{\"name\":\"data\",\"kind\":\"Any\",\"default\":null}]}]}};\n",
       "  var render_items = [{\"docid\":\"3962f73f-d4d2-4334-8281-c2e93c7ebad6\",\"roots\":{\"d5fa6450-38db-41b3-ac31-9a34ad5fc831\":\"c3fd329d-7b9f-4a2e-aa08-cb46dbde3def\"},\"root_ids\":[\"d5fa6450-38db-41b3-ac31-9a34ad5fc831\"]}];\n",
       "  var docs = Object.values(docs_json)\n",
       "  if (!docs) {\n",
       "    return\n",
       "  }\n",
       "  const py_version = docs[0].version.replace('rc', '-rc.').replace('.dev', '-dev.')\n",
       "  async function embed_document(root) {\n",
       "    var Bokeh = get_bokeh(root)\n",
       "    await Bokeh.embed.embed_items_notebook(docs_json, render_items);\n",
       "    for (const render_item of render_items) {\n",
       "      for (const root_id of render_item.root_ids) {\n",
       "\tconst id_el = document.getElementById(root_id)\n",
       "\tif (id_el.children.length && id_el.children[0].hasAttribute('data-root-id')) {\n",
       "\t  const root_el = id_el.children[0]\n",
       "\t  root_el.id = root_el.id + '-rendered'\n",
       "\t  for (const child of root_el.children) {\n",
       "            // Ensure JupyterLab does not capture keyboard shortcuts\n",
       "            // see: https://jupyterlab.readthedocs.io/en/4.1.x/extension/notebook.html#keyboard-interaction-model\n",
       "\t    child.setAttribute('data-lm-suppress-shortcuts', 'true')\n",
       "\t  }\n",
       "\t}\n",
       "      }\n",
       "    }\n",
       "  }\n",
       "  function get_bokeh(root) {\n",
       "    if (root.Bokeh === undefined) {\n",
       "      return null\n",
       "    } else if (root.Bokeh.version !== py_version) {\n",
       "      if (root.Bokeh.versions === undefined || !root.Bokeh.versions.has(py_version)) {\n",
       "\treturn null\n",
       "      }\n",
       "      return root.Bokeh.versions.get(py_version);\n",
       "    } else if (root.Bokeh.version === py_version) {\n",
       "      return root.Bokeh\n",
       "    }\n",
       "    return null\n",
       "  }\n",
       "  function is_loaded(root) {\n",
       "    var Bokeh = get_bokeh(root)\n",
       "    return (Bokeh != null && Bokeh.Panel !== undefined)\n",
       "  }\n",
       "  if (is_loaded(root)) {\n",
       "    embed_document(root);\n",
       "  } else {\n",
       "    var attempts = 0;\n",
       "    var timer = setInterval(function(root) {\n",
       "      if (is_loaded(root)) {\n",
       "        clearInterval(timer);\n",
       "        embed_document(root);\n",
       "      } else if (document.readyState == \"complete\") {\n",
       "        attempts++;\n",
       "        if (attempts > 200) {\n",
       "          clearInterval(timer);\n",
       "\t  var Bokeh = get_bokeh(root)\n",
       "\t  if (Bokeh == null || Bokeh.Panel == null) {\n",
       "            console.warn(\"Panel: ERROR: Unable to run Panel code because Bokeh or Panel library is missing\");\n",
       "\t  } else {\n",
       "\t    console.warn(\"Panel: WARNING: Attempting to render but not all required libraries could be resolved.\")\n",
       "\t    embed_document(root)\n",
       "\t  }\n",
       "        }\n",
       "      }\n",
       "    }, 25, root)\n",
       "  }\n",
       "})(window);</script>"
      ]
     },
     "metadata": {
      "application/vnd.holoviews_exec.v0+json": {
       "id": "d5fa6450-38db-41b3-ac31-9a34ad5fc831"
      }
     },
     "output_type": "display_data"
    },
    {
     "data": {
      "text/html": [
       "\n",
       "\n",
       "\n",
       "\n",
       "<div class=\"logo-block\">\n",
       "<a href=\"https://holoviews.org\" target=\"_blank\" title=\"HoloViews 1.21.0\">\n",
       "  <img src='data:image/png;base64,iVBORw0KGgoAAAANSUhEUgAAAEAAAABACAYAAACqaXHeAAAABHNCSVQICAgIfAhkiAAAAAlwSFlz\n",
       "AAAB+wAAAfsBxc2miwAAABl0RVh0U29mdHdhcmUAd3d3Lmlua3NjYXBlLm9yZ5vuPBoAAA6zSURB\n",
       "VHic7ZtpeFRVmsf/5966taWqUlUJ2UioBBJiIBAwCZtog9IOgjqACsogKtqirT2ttt069nQ/zDzt\n",
       "tI4+CrJIREFaFgWhBXpUNhHZQoKBkIUASchWla1S+3ar7r1nPkDaCAnZKoQP/D7mnPOe9/xy76n3\n",
       "nFSAW9ziFoPFNED2LLK5wcyBDObkb8ZkxuaoSYlI6ZcOKq1eWFdedqNzGHQBk9RMEwFAASkk0Xw3\n",
       "ETacDNi2vtvc7L0ROdw0AjoSotQVkKSvHQz/wRO1lScGModBFbDMaNRN1A4tUBCS3lk7BWhQkgpD\n",
       "lG4852/+7DWr1R3uHAZVQDsbh6ZPN7CyxUrCzJMRouusj0ipRwD2uKm0Zn5d2dFwzX1TCGhnmdGo\n",
       "G62Nna+isiUqhkzuKrkQaJlPEv5mFl2fvGg2t/VnzkEV8F5ioioOEWkLG86fvbpthynjdhXYZziQ\n",
       "x1hC9J2NFyi8vCTt91Fh04KGip0AaG9zuCk2wQCVyoNU3Hjezee9bq92duzzTmxsRJoy+jEZZZYo\n",
       "GTKJ6SJngdJqAfRzpze0+jHreUtPc7gpBLQnIYK6BYp/uGhw9YK688eu7v95ysgshcg9qSLMo3JC\n",
       "4jqLKQFBgdKDPoQ+Pltb8dUyQLpeDjeVgI6EgLIQFT5tEl3rn2losHVsexbZ3EyT9wE1uGdkIPcy\n",
       "BGxn8QUq1QrA5nqW5i2tLqvrrM9NK6AdkVIvL9E9bZL/oyfMVd/jqvc8LylzRBKDJSzIExwhQzuL\n",
       "QYGQj4rHfFTc8mUdu3E7yoLtbTe9gI4EqVgVkug2i5+uXGo919ixbRog+3fTbQ8qJe4ZOYNfMoTI\n",
       "OoshUNosgO60AisX15aeI2PSIp5KiFLI9ubb1vV3Qb2ltwLakUCDAkWX7/nHKRmmGIl9VgYsUhJm\n",
       "2NXjKYADtM1ygne9QQDIXlk49FBstMKx66D1v4+XuQr7vqTe0VcBHQlRWiOCbmmSYe2SqtL6q5rJ\n",
       "zsTb7lKx3FKOYC4DoqyS/B5bvLPxvD9Qtf6saxYLQGJErmDOdOMr/zo96km1nElr8bmPOBwI9COv\n",
       "HnFPRIwmkSOv9kcAS4heRsidOkpeWBgZM+UBrTFAXNYL5Vf2ii9c1trNzpYdaoVil3WIc+wdk+gQ\n",
       "noie3ecCcxt9ITcLAPWt/laGEO/9U6PmzZkenTtsSMQ8uYywJVW+grCstAvCIaAdArAsIWkRDDs/\n",
       "KzLm2YcjY1Lv0UdW73HabE9n6V66cxSzfEmuJssTpKGVp+0vHq73FwL46eOjpMpbRAnNmJFrGJNu\n",
       "Ukf9Yrz+3rghiumCKNXXWPhLYcjxGsIpoCMsIRoFITkW8AuyM8jC1+/QLx4bozCEJIq38+1rtpR6\n",
       "V/yzb8eBlRb3fo5l783N0CWolAzJHaVNzkrTzlEp2bQ2q3TC5gn6wpnoQAmwSiGh2GitnTmVMc5O\n",
       "UyfKWUKCIsU7+fZDKwqdT6DDpvkzAX4/+AMFjk0tDp5GRXLpQ2MUmhgDp5gxQT8+Y7hyPsMi8uxF\n",
       "71H0oebujHALECjFKaW9Lm68n18wXp2kVzIcABytD5iXFzg+WVXkegpAsOOYziqo0OkK76GyquC3\n",
       "ltZAzMhhqlSNmmWTE5T6e3IN05ITFLM4GdN0vtZ3ob8Jh1NAKXFbm5PtLU/eqTSlGjkNAJjdgn/N\n",
       "aedXa0tdi7+t9G0FIF49rtMSEgAs1kDLkTPO7ebm4IUWeyh1bKomXqlgMG6kJmHcSM0clYLJ8XtR\n",
       "1GTnbV3F6I5wCGikAb402npp1h1s7LQUZZSMIfALFOuL3UUrfnS8+rez7v9qcold5tilgHbO1fjK\n",
       "9ubb17u9oshxzMiUBKXWqJNxd+fqb0tLVs4lILFnK71H0Ind7uiPgACVcFJlrb0tV6DzxqqTIhUM\n",
       "CwDf1/rrVhTa33/3pGPxJYdQ2l2cbgVcQSosdx8uqnDtbGjh9SlDVSMNWhlnilfqZk42Th2ZpLpf\n",
       "xrHec5e815zrr0dfBZSwzkZfqsv+1FS1KUknUwPARVvItfKUY+cn57yP7qv07UE3p8B2uhUwLk09\n",
       "e0SCOrK+hbdYHYLjRIl71wWzv9jpEoeOHhGRrJAzyEyNiJuUqX0g2sBN5kGK6y2Blp5M3lsB9Qh4\n",
       "y2Ja6x6+i0ucmKgwMATwhSjdUu49tKrQ/pvN5d53ml2CGwCmJipmKjgmyuaXzNeL2a0AkQ01Th5j\n",
       "2DktO3Jyk8f9vcOBQHV94OK+fPumJmvQHxJoWkaKWq9Vs+yUsbq0zGT1I4RgeH2b5wef7+c7bl8F\n",
       "eKgoHVVZa8ZPEORzR6sT1BzDUAD/d9F78e2Tzv99v8D+fLVTqAKAsbGamKey1Mt9Ann4eH3gTXTz\n",
       "idWtAJ8PQWOk7NzSeQn/OTHDuEikVF1R4z8BQCy+6D1aWRfY0tTGG2OM8rRoPaeIj5ZHzJxszElN\n",
       "VM8K8JS5WOfv8mzRnQAKoEhmt8gyPM4lU9SmBK1MCQBnW4KONT86v1hZ1PbwSXPw4JWussVjtH9Y\n",
       "NCoiL9UoH/6PSu8jFrfY2t36erQHXLIEakMi1SydmzB31h3GGXFDFNPaK8Rme9B79Ixrd0WN+1ij\n",
       "NRQ/doRmuFLBkHSTOm5GruG+pFjFdAmorG4IXH1Qua6ASniclfFtDYt+oUjKipPrCQB7QBQ2lrgP\n",
       "fFzm+9XWUtcqJ3/5vDLDpJ79XHZk3u8nGZ42qlj1+ydtbxysCezrydp6ugmipNJ7WBPB5tydY0jP\n",
       "HaVNzs3QzeE4ZpTbI+ZbnSFPbVOw9vsfnVvqWnirPyCNGD08IlqtYkh2hjZ5dErEQzoNm+6ykyOt\n",
       "Lt5/PQEuSRRKo22VkydK+vvS1XEKlhCJAnsqvcVvH7f/ZU2R67eXbMEGAMiIV5oWZWiWvz5Fv2xG\n",
       "sjqNJQRvn3Rs2lji/lNP19VjAQDgD7FHhujZB9OGqYxRkZxixgRDVlqS6uEOFaJUVu0rPFzctrnF\n",
       "JqijImVp8dEKVWyUXDk92zAuMZ6bFwpBU1HrOw6AdhQgUooChb0+ItMbWJitSo5Ws3IAOGEOtL53\n",
       "0vHZih9sC4vtofZ7Qu6523V/fmGcds1TY3V36pUsBwAbSlxnVh2xLfAD/IAIMDf7XYIkNmXfpp2l\n",
       "18rkAJAy9HKFaIr/qULkeQQKy9zf1JgDB2uaeFNGijo5QsUyacNUUTOnGO42xSnv4oOwpDi1zYkc\n",
       "efUc3I5Gk6PhyTuVKaOGyLUAYPGIoY9Pu/atL/L92+4q9wbflRJ2Trpm/jPjdBtfnqB/dIThcl8A\n",
       "KG7hbRuKnb8qsQsVvVlTrwQAQMUlf3kwJI24Z4JhPMtcfng5GcH49GsrxJpGvvHIaeem2ma+KSjQ\n",
       "lIwUdYyCY8j4dE1KzijNnIP2llF2wcXNnsoapw9XxsgYAl6k+KzUXbi2yP3KR2ecf6z3BFsBICdW\n",
       "nvnIaG3eHybqX7vbpEqUMT+9OL4Qpe8VON7dXuFd39v19FoAABRVePbGGuXTszO0P7tu6lghUonE\n",
       "llRdrhArLvmKdh9u29jcFiRRkfLUxBiFNiqSU9icoZQHo5mYBI1MBgBH6wMNb+U7Pnw337H4gi1Y\n",
       "ciWs+uks3Z9fztUvfzxTm9Ne8XXkvQLHNytOOZeiD4e0PgkAIAYCYknKUNUDSXEKzdWNpnil7r4p\n",
       "xqkjTarZMtk/K8TQ6Qve78qqvXurGwIJqcOUKfUWHsm8KGvxSP68YudXq4pcj39X49uOK2X142O0\n",
       "Tz5/u/7TVybqH0rSya6ZBwD21/gubbrgWdDgEOx9WUhfBaC2ibcEBYm7a7x+ukrBMNcEZggyR0TE\n",
       "T8zUPjikQ4VosQZbTpS4vqizBKvqmvjsqnpfzaZyx9JPiz1/bfGKdgD45XB1zoIMzYbfTdS/NClB\n",
       "Gct0USiY3YL/g0LHy/uq/Ef6uo5+n0R/vyhp17Klpge763f8rMu6YU/zrn2nml+2WtH+Z+5IAAFc\n",
       "2bUTdTDOSNa9+cQY7YLsOIXhevEkCvzph7a8laecz/Un/z4/Ae04XeL3UQb57IwU9ZDr9UuKVajv\n",
       "nxp1+1UVIo/LjztZkKH59fO3G/JemqCfmaCRqbqbd90ZZ8FfjtkfAyD0J/9+C2h1hDwsSxvGjNDc\n",
       "b4zk5NfrSwiQblLHzZhg+Jf4aPlUwpDqkQqa9nimbt1/TDH8OitGMaQnj+RJS6B1fbF7SY1TqO5v\n",
       "/v0WAADl1f7zokgS7s7VT2DZ7pegUjBM7mjtiDZbcN4j0YrHH0rXpCtY0qPX0cVL0rv5jv/ZXend\n",
       "0u/EESYBAFBU4T4Qa5TflZOhTe7pmKpaP8kCVUVw1+yhXfJWvn1P3hnXi33JsTN6PnP3hHZ8Z3/h\n",
       "aLHzmkNPuPj7Bc/F/Q38CwjTpSwQXgE4Vmwry9tpfq/ZFgqFMy4AVDtCvi8rvMvOmv0N4YwbVgEA\n",
       "sPM72/KVnzfspmH7HQGCRLG2yL1+z8XwvPcdCbsAANh+xPzstgMtxeGKt+6MK3/tacfvwhWvIwMi\n",
       "oKEBtm0H7W+UVfkc/Y1V0BhoPlDr/w1w/eu1vjIgAgDg22OtX6/eYfnEz/focrZTHAFR+PSs56/7\n",
       "q32nwpjazxgwAQCwcU/T62t3WL7r6/jVRa6/byp1rei+Z98ZUAEAhEPHPc8fKnTU9nbgtnOe8h0l\n",
       "9hcGIqmODLQAHCy2Xti6v/XNRivf43f4fFvIteu854+VHnR7q9tfBlwAAGz+pnndB9vM26UebAe8\n",
       "SLHujPOTPVW+rwY+sxskAAC2HrA8t2Vvc7ffP1r9o+vwR2dcr92InIAbKKC1FZ5tB1tf+/G8p8sv\n",
       "N/9Q5zd/XR34LYCwV5JdccMEAMDBk45DH243r/X4xGvqxFa/GNpS7n6rwOwNWwHVE26oAADYurf1\n",
       "zx/utOzt+DMKYM0p17YtZZ5VNzqfsB2HewG1WXE8PoZ7gOclbTIvynZf9JV+fqZtfgs/8F/Nu5rB\n",
       "EIBmJ+8QRMmpU7EzGRsf2FzuePqYRbzh/zE26EwdrT10f6r6o8HOYzCJB9Dpff8tbnGLG8L/A/WE\n",
       "roTBs2RqAAAAAElFTkSuQmCC' style='height:25px; border-radius:12px; display: inline-block; float: left; vertical-align: middle'></img>\n",
       "</a>\n",
       "\n",
       "\n",
       "<a href=\"https://bokeh.org\" target=\"_blank\" title=\"Bokeh 3.7.3\">\n",
       "  <img src='data:image/png;base64,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'\n",
       "       style='height:15px; border-radius:12px; display: inline-block; float: left'>\n",
       "  </img>\n",
       "</a>\n",
       "\n",
       "\n",
       "\n",
       "\n",
       "\n",
       "\n",
       "\n",
       "<span style=\"float: left; margin-left: 5px; line-height: 15px; cursor: pointer; opacity: 0.7;\"\n",
       "      onmouseover=\"this.style.opacity='1'\"\n",
       "      onmouseout=\"this.style.opacity='0.7'\"\n",
       "      title=\"Extension loaded. This cell output contains code that enables plot interactivity, it should not be removed.\">ⓘ</span>\n",
       "</div>\n",
       "\n"
      ]
     },
     "metadata": {},
     "output_type": "display_data"
    },
    {
     "data": {
      "application/vnd.jupyter.widget-view+json": {
       "model_id": "4b585aceafc14efa99364b849ec287c4",
       "version_major": 2,
       "version_minor": 0
      },
      "text/plain": [
       "BokehModel(combine_events=True, render_bundle={'docs_json': {'22e9db90-11dd-427f-ac7d-2b0884df03bd': {'version…"
      ]
     },
     "execution_count": 2,
     "metadata": {},
     "output_type": "execute_result"
    }
   ],
   "source": [
    "import os\n",
    "\n",
    "import torch\n",
    "import yaml\n",
    "from models.lit_model import LitModel\n",
    "from numpy import random\n",
    "from data.dataset import MCSims\n",
    "from plot.plot import plot_field_xy_from_tensor\n",
    "import holoviews as hv\n",
    "\n",
    "hv.extension(\"bokeh\")\n",
    "device = \"cpu\"\n",
    "\n",
    "version = 8\n",
    "path = f\"lightning_logs/version_{version}/\"\n",
    "\n",
    "with open(os.path.join(path, \"hparams.yaml\"), \"r\") as f:\n",
    "    config = yaml.safe_load(f)\n",
    "\n",
    "litmodel = LitModel(\n",
    "    model_type=config[\"model_type\"],\n",
    "    config=config[\"config\"],\n",
    "    learning_rate=config[\"learning_rate\"],\n",
    ")\n",
    "\n",
    "litmodel.model.load_state_dict(torch.load(os.path.join(path, \"model.pth\")))\n",
    "\n",
    "dataset = MCSims(augment=False, preprocess=False)\n",
    "n = 1071\n",
    "\n",
    "original = dataset[n].float()  # Convert to float\n",
    "model = litmodel.model\n",
    "model.eval()\n",
    "reconstruct = model(original.unsqueeze(0).to(device))[0].squeeze(0).detach().cpu()\n",
    "\n",
    "plot_field_xy_from_tensor(original) + plot_field_xy_from_tensor(reconstruct)\n"
   ]
  },
  {
   "cell_type": "code",
   "execution_count": 1,
   "metadata": {},
   "outputs": [
    {
     "data": {
      "image/png": "[encoded data removed]",
      "text/plain": [
       "<Figure size 640x480 with 1 Axes>"
      ]
     },
     "metadata": {},
     "output_type": "display_data"
    }
   ],
   "source": [
    "import pandas as pd\n",
    "import matplotlib.pyplot as plt\n",
    "\n",
    "# load the df from the csv file\n",
    "hf = pd.read_csv(\"data/dataset.csv\")\n",
    "\n",
    "# Plot H vs T with labels scatter\n",
    "plt.scatter(hf[\"T\"], hf[\"H\"], c=hf[\"label\"], cmap=\"jet\", alpha=0.5)\n",
    "plt.xlabel(\"Temperature (T)\")\n",
    "plt.ylabel(\"Magnetic Field (H)\")\n",
    "plt.show()"
   ]
  },
  {
   "cell_type": "code",
   "execution_count": 3,
   "metadata": {},
   "outputs": [
    {
     "data": {
      "application/vnd.jupyter.widget-view+json": {
       "model_id": "1cacfe11f5d1478b9f390923015aff60",
       "version_major": 2,
       "version_minor": 0
      },
      "text/plain": [
       "FigureWidget({\n",
       "    'data': [{'customdata': {'bdata': ('AAABAAIAAwAEAAUABgBmAGcAaABpAG' ... 'nICckJygnLCcwJzQnOCc8J0AnRCQ=='),\n",
       "                             'dtype': 'i2'},\n",
       "              'hovertemplate': 'T: %{x}<br>H: %{y}<extra></extra>',\n",
       "              'marker': {'color': '#2E91E5', 'size': 10},\n",
       "              'mode': 'markers',\n",
       "              'name': 'Cluster 2',\n",
       "              'type': 'scatter',\n",
       "              'uid': '58f47650-431a-4349-83cd-df73835605a4',\n",
       "              'x': {'bdata': ('AAAAAADQoUAAAAAAANChQAAAAAAA0K' ... 'AAGKVAAAAAAAAYpUAAAAAAABilQA=='),\n",
       "                    'dtype': 'f8'},\n",
       "              'y': {'bdata': ('AAAAAAAAAADEVz1FvxW/QMZXPUW/Fc' ... 'NPUPdATtdBaKtB+UDNrJVcBzP7QA=='),\n",
       "                    'dtype': 'f8'}},\n",
       "             {'customdata': {'bdata': ('BwAIAAkACgALAAwADQAOAA8AEAARAB' ... 'nsCe0J7gnvCfAJ8QnyCfMJ9An1CQ=='),\n",
       "                             'dtype': 'i2'},\n",
       "              'hovertemplate': 'T: %{x}<br>H: %{y}<extra></extra>',\n",
       "              'marker': {'color': '#E15F99', 'size': 10},\n",
       "              'mode': 'markers',\n",
       "              'name': 'Cluster 3',\n",
       "              'type': 'scatter',\n",
       "              'uid': '78e1c40a-ac92-4c8a-8d5e-ab282a2f5f7e',\n",
       "              'x': {'bdata': ('AAAAAADQoUAAAAAAANChQAAAAAAA0K' ... 'AAGKVAAAAAAAAYpUAAAAAAABilQA=='),\n",
       "                    'dtype': 'f8'},\n",
       "              'y': {'bdata': ('zayVXAcz60DFVz1FvxXvQF6B8pY7fP' ... 'NPUBdBMvcCcabMF0GS7Bdu/UgYQQ=='),\n",
       "                    'dtype': 'f8'}},\n",
       "             {'customdata': {'bdata': ('GgAbABwAHQAeAB8AIAAhACIAIwAkAC' ... 'm4CbkJugm7CbwJvQm+Cb8JwAnBCcIJ'),\n",
       "                             'dtype': 'i2'},\n",
       "              'hovertemplate': 'T: %{x}<br>H: %{y}<extra></extra>',\n",
       "              'marker': {'color': '#1CA71C', 'size': 10},\n",
       "              'mode': 'markers',\n",
       "              'name': 'Cluster 1',\n",
       "              'type': 'scatter',\n",
       "              'uid': 'e53e96ce-098f-4453-acae-329dbdd274e9',\n",
       "              'x': {'bdata': ('AAAAAADQoUAAAAAAANChQAAAAAAA0K' ... 'AAAACAlkAAAAAAAICWQAAAAAAAgJZA'),\n",
       "                    'dtype': 'f8'},\n",
       "              'y': {'bdata': ('TtdBaKtBCUENwmtiWToKQc2slVwHMw' ... 'Huc09QF0Ey9wJxpswXQZLsF279SBhB'),\n",
       "                    'dtype': 'f8'}},\n",
       "             {'customdata': {'bdata': ('MwA0ADUANgA3ADgAOQA6ADsAPAA9AD' ... 'oDCgQKBQoGCgcKCAoJCgoKCwoMCg0K'),\n",
       "                             'dtype': 'i2'},\n",
       "              'hovertemplate': 'T: %{x}<br>H: %{y}<extra></extra>',\n",
       "              'marker': {'color': '#FB0D0D', 'size': 10},\n",
       "              'mode': 'markers',\n",
       "              'name': 'Cluster 4',\n",
       "              'type': 'scatter',\n",
       "              'uid': 'fe70689d-dd90-4d2d-afe8-16dfaafc9847',\n",
       "              'x': {'bdata': ('AAAAAAAAjkAAAAAAAACOQAAAAAAAAI' ... 'AAAACAdkAAAAAAAIB2QAAAAAAAgHZA'),\n",
       "                    'dtype': 'f8'},\n",
       "              'y': {'bdata': ('AAAAAAAAAADEVz1FvxW/QMZXPUW/Fc' ... 'FwhUVmBEFXLJp/814FQRYXxHmhVwZB'),\n",
       "                    'dtype': 'f8'}},\n",
       "             {'customdata': {'bdata': ('SgBLAEwATQBOAE8AUABRAFIAUwAZAR' ... 'kOCg8KEAoRChIKEwoUChUKFgoXChgK'),\n",
       "                             'dtype': 'i2'},\n",
       "              'hovertemplate': 'T: %{x}<br>H: %{y}<extra></extra>',\n",
       "              'marker': {'color': '#DA16FF', 'size': 10},\n",
       "              'mode': 'markers',\n",
       "              'name': 'Cluster 5',\n",
       "              'type': 'scatter',\n",
       "              'uid': '6f733104-601b-4d61-87a5-8f65133c3c24',\n",
       "              'x': {'bdata': ('AAAAAAAAjkAAAAAAAACOQAAAAAAAAI' ... 'AAAACAdkAAAAAAAIB2QAAAAAAAgHZA'),\n",
       "                    'dtype': 'f8'},\n",
       "              'y': {'bdata': ('FhfEeaFXBkHSAe5zT1AHQZLsF279SA' ... 'c9Rb8VD0FBobOfNgcQQZ+WyJyNgxBB'),\n",
       "                    'dtype': 'f8'}},\n",
       "             {'customdata': {'bdata': ('VABVAFYAVwBYAFkAWgBbAFwAXQBeAF' ... 'ofCiAKIQoiCiMKJAolCiYKJwooCg=='),\n",
       "                             'dtype': 'i2'},\n",
       "              'hovertemplate': 'T: %{x}<br>H: %{y}<extra></extra>',\n",
       "              'marker': {'color': '#222A2A', 'size': 10},\n",
       "              'mode': 'markers',\n",
       "              'name': 'Cluster 0',\n",
       "              'type': 'scatter',\n",
       "              'uid': '069cc6ed-ba8e-4862-8566-190957e62c7c',\n",
       "              'x': {'bdata': ('AAAAAAAAjkAAAAAAAACOQAAAAAAAAI' ... 'AAgHZAAAAAAACAdkAAAAAAAIB2QA=='),\n",
       "                    'dtype': 'f8'},\n",
       "              'y': {'bdata': ('QaGznzYHEEGflsicjYMQQf+L3Znk/x' ... 'NPUBdBMvcCcabMF0GS7Bdu/UgYQQ=='),\n",
       "                    'dtype': 'f8'}}],\n",
       "    'layout': {'height': 600,\n",
       "               'images': [{'layer': 'above',\n",
       "                           'sizex': 0.5,\n",
       "                           'sizey': 0.5,\n",
       "                           'source': '',\n",
       "                           'x': 1,\n",
       "                           'xanchor': 'right',\n",
       "                           'xref': 'paper',\n",
       "                           'y': 1,\n",
       "                           'yanchor': 'top',\n",
       "                           'yref': 'paper'}],\n",
       "               'margin': {'b': 25, 'l': 10, 'r': 10, 't': 25},\n",
       "               'template': '...',\n",
       "               'width': 900,\n",
       "               'xaxis': {'title': {'text': 'T (K)'}},\n",
       "               'yaxis': {'title': {'text': 'H (A/m)'}}}\n",
       "})"
      ]
     },
     "execution_count": 3,
     "metadata": {},
     "output_type": "execute_result"
    }
   ],
   "source": [
    "\n",
    "import torch\n",
    "import hdbscan\n",
    "#from sklearn.cluster import KMeans\n",
    "from sklearn.mixture import GaussianMixture, BayesianGaussianMixture\n",
    "from plot.plot import plot_H_vs_T_with_hover\n",
    "\n",
    "# Encode the dataset\n",
    "encoded_data = torch.load(\"lightning_logs/version_8/encoded_data.pth\").cpu().numpy()\n",
    "\n",
    "# labels = hdbscan.HDBSCAN(min_cluster_size=15, cluster_selection_epsilon=0.06).fit_predict(encoded_data)\n",
    "labels = GaussianMixture(n_components=6, covariance_type='diag').fit_predict(encoded_data)\n",
    "# labels = BayesianGaussianMixture(n_components=6, covariance_type='spherical').fit_predict(encoded_data)\n",
    "plot_H_vs_T_with_hover(labels=labels)"
   ]
  },
  {
   "cell_type": "code",
   "execution_count": 4,
   "metadata": {},
   "outputs": [
    {
     "name": "stdout",
     "output_type": "stream",
     "text": [
      "Adjusted Rand Index: 0.6142\n",
      "Purity Score: 0.8774\n"
     ]
    }
   ],
   "source": [
    "import pandas as pd\n",
    "import torch\n",
    "from sklearn.mixture import GaussianMixture\n",
    "\n",
    "# measure the Adjusted Rand Index for a subset of the data\n",
    "from sklearn.metrics import adjusted_rand_score\n",
    "import numpy as np\n",
    "from sklearn.metrics.cluster import contingency_matrix\n",
    "\n",
    "true_df = pd.read_csv(\"data/dataset.csv\")\n",
    "\n",
    "true_labels = true_df[\"label\"].values\n",
    "\n",
    "# make a list of predicted labels which are oniy the labels in of index id from true_labels\n",
    "\n",
    "predicted_labels = [labels[10 * i] for i in range(261)]\n",
    "\n",
    "\n",
    "# calculate the Adjusted Rand Index\n",
    "ari = adjusted_rand_score(true_labels, predicted_labels)\n",
    "print(f\"Adjusted Rand Index: {ari:.4f}\")\n",
    "\n",
    "def purity_score(y_true, y_pred):\n",
    "    matrix = contingency_matrix(y_true, y_pred)\n",
    "    return np.sum(np.amax(matrix, axis=0)) / np.sum(matrix)\n",
    "purity = purity_score(true_labels, predicted_labels)\n",
    "print(f\"Purity Score: {purity:.4f}\")\n"
   ]
  },
  {
   "cell_type": "code",
   "execution_count": 4,
   "metadata": {},
   "outputs": [],
   "source": [
    "from data.dataset import MCSims\n",
    "\n",
    "# Load dataset\n",
    "dataset = MCSims()\n",
    "df = dataset.data_frame.copy()\n",
    "\n",
    "import torch\n",
    "import hdbscan\n",
    "#from sklearn.cluster import KMeans\n",
    "from sklearn.mixture import GaussianMixture, BayesianGaussianMixture\n",
    "from plot.plot import plot_H_vs_T_with_hover\n",
    "\n",
    "# Encode the dataset\n",
    "encoded_data = torch.load(\"lightning_logs/version_8/encoded_data.pth\").cpu().numpy()\n",
    "\n",
    "# labels = hdbscan.HDBSCAN(min_cluster_size=15, cluster_selection_epsilon=0.06).fit_predict(encoded_data)\n",
    "labels = GaussianMixture(n_components=6, covariance_type='diag').fit_predict(encoded_data)\n",
    "\n",
    "df[\"cluster\"] = labels\n",
    "\n",
    "df.to_csv(\"dask_app_viz/dataset.csv\", index=False)  # Save the updated DataFrame to a new CSV file"
   ]
  }
 ],
 "metadata": {
  "kernelspec": {
   "display_name": ".venv (3.13.5)",
   "language": "python",
   "name": "python3"
  },
  "language_info": {
   "codemirror_mode": {
    "name": "ipython",
    "version": 3
   },
   "file_extension": ".py",
   "mimetype": "text/x-python",
   "name": "python",
   "nbconvert_exporter": "python",
   "pygments_lexer": "ipython3",
   "version": "3.13.5"
  }
 },
 "nbformat": 4,
 "nbformat_minor": 2
}
